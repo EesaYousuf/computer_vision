{
 "cells": [
  {
   "cell_type": "code",
   "execution_count": null,
   "id": "23f4b86d",
   "metadata": {
    "vscode": {
     "languageId": "plaintext"
    }
   },
   "outputs": [],
   "source": [
    "import cv2\n",
    "import numpy as np\n",
    "\n",
    "cap = cv2.VideoCapture(0)\n"
   ]
  },
  {
   "cell_type": "code",
   "execution_count": null,
   "id": "a09ec658",
   "metadata": {
    "vscode": {
     "languageId": "plaintext"
    }
   },
   "outputs": [],
   "source": [
    "while True:\n",
    "    ret, frame = cap.read()\n",
    "    frame = cv2.flip(frame, 1)\n",
    "    roi = frame[100:300, 100:300]\n",
    "    cv2.rectangle(frame, (100,100), (300,300), (0,255,0), 2)\n"
   ]
  },
  {
   "cell_type": "code",
   "execution_count": null,
   "id": "8b5c5b35",
   "metadata": {
    "vscode": {
     "languageId": "plaintext"
    }
   },
   "outputs": [],
   "source": [
    "hsv = cv2.cvtColor(roi, cv2.COLOR_BGR2HSV)\n",
    "    lower_skin = np.array([0, 20, 70], dtype=np.uint8)\n",
    "    upper_skin = np.array([20, 255, 255], dtype=np.uint8)\n",
    "\n",
    "    mask = cv2.inRange(hsv, lower_skin, upper_skin)\n",
    "    mask = cv2.dilate(mask, np.ones((3,3), np.uint8), iterations=4)\n",
    "    mask = cv2.GaussianBlur(mask, (5,5), 100)\n"
   ]
  },
  {
   "cell_type": "code",
   "execution_count": null,
   "id": "7bc3227c",
   "metadata": {
    "vscode": {
     "languageId": "plaintext"
    }
   },
   "outputs": [],
   "source": [
    "mask = cv2.inRange(hsv, lower_skin, upper_skin)\n",
    "    mask = cv2.dilate(mask, np.ones((3,3), np.uint8), iterations=4)\n",
    "    mask = cv2.GaussianBlur(mask, (5,5), 100)\n",
    "\n",
    "    cv2.imshow('Hand Mask', mask)\n",
    "    cv2.imshow('Webcam Feed', frame)\n"
   ]
  },
  {
   "cell_type": "code",
   "execution_count": null,
   "id": "424ea735",
   "metadata": {
    "vscode": {
     "languageId": "plaintext"
    }
   },
   "outputs": [],
   "source": [
    "if cv2.waitKey(1) == ord('q'):\n",
    "        break\n",
    "\n",
    "cap.release()\n",
    "cv2.destroyAllWindows()"
   ]
  }
 ],
 "metadata": {
  "language_info": {
   "name": "python"
  }
 },
 "nbformat": 4,
 "nbformat_minor": 5
}

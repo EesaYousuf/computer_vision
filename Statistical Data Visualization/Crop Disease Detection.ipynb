{
 "cells": [
  {
   "cell_type": "code",
   "execution_count": null,
   "id": "dd63657b",
   "metadata": {
    "vscode": {
     "languageId": "plaintext"
    }
   },
   "outputs": [],
   "source": [
    "Dataset: A folder structure like:\n",
    "\n",
    "data/\n",
    "  ├─ train/\n",
    "  │    ├─ healthy/\n",
    "  │    └─ diseased/\n",
    "  └─ val/\n",
    "       ├─ healthy/\n",
    "       └─ diseased/"
   ]
  },
  {
   "cell_type": "code",
   "execution_count": null,
   "id": "349d92fa",
   "metadata": {
    "vscode": {
     "languageId": "plaintext"
    }
   },
   "outputs": [],
   "source": [
    "Setup & Imports\n",
    "import tensorflow as tf\n",
    "from tensorflow.keras.preprocessing.image import ImageDataGenerator\n",
    "from tensorflow.keras.applications import MobileNetV2\n",
    "from tensorflow.keras import layers, models, optimizers\n",
    "import numpy as np\n",
    "import matplotlib.pyplot as plt\n",
    "\n"
   ]
  },
  {
   "cell_type": "code",
   "execution_count": null,
   "id": "d62738d1",
   "metadata": {
    "vscode": {
     "languageId": "plaintext"
    }
   },
   "outputs": [],
   "source": [
    " Data Pipeline & Augmentation\n",
    "img_size = (224, 224)\n",
    "batch = 32\n",
    "\n",
    "train_gen = ImageDataGenerator(\n",
    "    rescale=1./255,\n",
    "    rotation_range=20,\n",
    "    horizontal_flip=True,\n",
    "    zoom_range=0.2\n",
    ")\n",
    "val_gen = ImageDataGenerator(rescale=1./255)\n",
    "\n",
    "train_ds = train_gen.flow_from_directory('data/train', target_size=img_size, batch_size=batch, class_mode='binary')\n",
    "val_ds = val_gen.flow_from_directory('data/val', target_size=img_size, batch_size=batch, class_mode='binary')\n",
    "\n"
   ]
  },
  {
   "cell_type": "code",
   "execution_count": null,
   "id": "7fdc8e00",
   "metadata": {
    "vscode": {
     "languageId": "plaintext"
    }
   },
   "outputs": [],
   "source": [
    "Model Construction\n",
    "base = MobileNetV2(input_shape=img_size + (3,), include_top=False, weights='imagenet')\n",
    "base.trainable = False\n",
    "\n",
    "model = models.Sequential([\n",
    "    base,\n",
    "    layers.GlobalAveragePooling2D(),\n",
    "    layers.Dropout(0.3),\n",
    "    layers.Dense(1, activation='sigmoid')\n",
    "])\n",
    "\n",
    "model.compile(optimizer=optimizers.Adam(1e-4),\n",
    "              loss='binary_crossentropy',\n",
    "              metrics=['accuracy'])\n",
    "model.summary()\n"
   ]
  },
  {
   "cell_type": "code",
   "execution_count": null,
   "id": "119a4b07",
   "metadata": {
    "vscode": {
     "languageId": "plaintext"
    }
   },
   "outputs": [],
   "source": [
    " Training\n",
    "\n",
    "EPOCHS = 10\n",
    "\n",
    "history = model.fit(\n",
    "    train_ds,\n",
    "    epochs=EPOCHS,\n",
    "    validation_data=val_ds\n",
    ")\n"
   ]
  },
  {
   "cell_type": "code",
   "execution_count": null,
   "id": "164f371d",
   "metadata": {
    "vscode": {
     "languageId": "plaintext"
    }
   },
   "outputs": [],
   "source": [
    "Plotting Training Curves:\n",
    "plt.plot(history.history['loss'], label='train')\n",
    "plt.plot(history.history['val_loss'], label='val')\n",
    "plt.legend(), plt.show()\n"
   ]
  },
  {
   "cell_type": "code",
   "execution_count": null,
   "id": "d5ce87aa",
   "metadata": {
    "vscode": {
     "languageId": "plaintext"
    }
   },
   "outputs": [],
   "source": [
    "Fine-Tuning (Optional)\n",
    "base.trainable = True\n",
    "fine_layers = 20\n",
    "for layer in base.layers[:-fine_layers]:\n",
    "    layer.trainable = False\n",
    "\n",
    "model.compile(optimizer=optimizers.Adam(1e-5),\n",
    "              loss='binary_crossentropy',\n",
    "              metrics=['accuracy'])\n",
    "model.fit(train_ds, epochs=5, validation_data=val_ds)\n"
   ]
  },
  {
   "cell_type": "code",
   "execution_count": null,
   "id": "d6f989dd",
   "metadata": {
    "vscode": {
     "languageId": "plaintext"
    }
   },
   "outputs": [],
   "source": [
    " Inference on New Images\n",
    "def predict_leaf(img_path):\n",
    "    img = tf.keras.preprocessing.image.load_img(img_path, target_size=img_size)\n",
    "    arr = tf.keras.preprocessing.image.img_to_array(img) / 255.0\n",
    "    pred = model.predict(np.expand_dims(arr, 0))[0][0]\n",
    "    return 'Diseased' if pred > 0.5 else 'Healthy'\n",
    "\n",
    "print(predict_leaf('sample_leaf.jpg'))\n"
   ]
  },
  {
   "cell_type": "code",
   "execution_count": null,
   "id": "feda487e",
   "metadata": {
    "vscode": {
     "languageId": "plaintext"
    }
   },
   "outputs": [],
   "source": []
  }
 ],
 "metadata": {
  "language_info": {
   "name": "python"
  }
 },
 "nbformat": 4,
 "nbformat_minor": 5
}

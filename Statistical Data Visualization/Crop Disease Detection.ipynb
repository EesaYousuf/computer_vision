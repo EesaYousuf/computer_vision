{
 "cells": [
  {
   "cell_type": "code",
   "execution_count": null,
   "id": "dd63657b",
   "metadata": {
    "vscode": {
     "languageId": "plaintext"
    }
   },
   "outputs": [],
   "source": [
    "Dataset: A folder structure like:\n",
    "\n",
    "data/\n",
    "  ├─ train/\n",
    "  │    ├─ healthy/\n",
    "  │    └─ diseased/\n",
    "  └─ val/\n",
    "       ├─ healthy/\n",
    "       └─ diseased/"
   ]
  },
  {
   "cell_type": "code",
   "execution_count": null,
   "id": "349d92fa",
   "metadata": {
    "vscode": {
     "languageId": "plaintext"
    }
   },
   "outputs": [],
   "source": [
    "Setup & Imports\n",
    "\n"
   ]
  }
 ],
 "metadata": {
  "language_info": {
   "name": "python"
  }
 },
 "nbformat": 4,
 "nbformat_minor": 5
}

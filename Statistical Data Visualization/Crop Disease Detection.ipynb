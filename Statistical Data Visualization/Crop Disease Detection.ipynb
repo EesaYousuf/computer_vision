{
 "cells": [
  {
   "cell_type": "code",
   "execution_count": null,
   "id": "dd63657b",
   "metadata": {
    "vscode": {
     "languageId": "plaintext"
    }
   },
   "outputs": [],
   "source": [
    "Dataset: A folder structure like:\n",
    "\n",
    "data/\n",
    "  ├─ train/\n",
    "  │    ├─ healthy/\n",
    "  │    └─ diseased/\n",
    "  └─ val/\n",
    "       ├─ healthy/\n",
    "       └─ diseased/"
   ]
  },
  {
   "cell_type": "code",
   "execution_count": null,
   "id": "349d92fa",
   "metadata": {
    "vscode": {
     "languageId": "plaintext"
    }
   },
   "outputs": [],
   "source": [
    "Setup & Imports\n",
    "import tensorflow as tf\n",
    "from tensorflow.keras.preprocessing.image import ImageDataGenerator\n",
    "from tensorflow.keras.applications import MobileNetV2\n",
    "from tensorflow.keras import layers, models, optimizers\n",
    "import numpy as np\n",
    "import matplotlib.pyplot as plt\n",
    "\n"
   ]
  },
  {
   "cell_type": "code",
   "execution_count": null,
   "id": "d62738d1",
   "metadata": {
    "vscode": {
     "languageId": "plaintext"
    }
   },
   "outputs": [],
   "source": [
    " Data Pipeline & Augmentation\n",
    "img_size = (224, 224)\n",
    "batch = 32\n",
    "\n",
    "train_gen = ImageDataGenerator(\n",
    "    rescale=1./255,\n",
    "    rotation_range=20,\n",
    "    horizontal_flip=True,\n",
    "    zoom_range=0.2\n",
    ")\n",
    "val_gen = ImageDataGenerator(rescale=1./255)\n",
    "\n",
    "train_ds = train_gen.flow_from_directory('data/train', target_size=img_size, batch_size=batch, class_mode='binary')\n",
    "val_ds = val_gen.flow_from_directory('data/val', target_size=img_size, batch_size=batch, class_mode='binary')\n",
    "\n"
   ]
  }
 ],
 "metadata": {
  "language_info": {
   "name": "python"
  }
 },
 "nbformat": 4,
 "nbformat_minor": 5
}

{
 "cells": [
  {
   "cell_type": "code",
   "execution_count": null,
   "id": "dd63657b",
   "metadata": {
    "vscode": {
     "languageId": "plaintext"
    }
   },
   "outputs": [],
   "source": [
    "Dataset: A folder structure like:\n",
    "\n",
    "data/\n",
    "  ├─ train/\n",
    "  │    ├─ healthy/\n",
    "  │    └─ diseased/\n",
    "  └─ val/\n",
    "       ├─ healthy/\n",
    "       └─ diseased/"
   ]
  },
  {
   "cell_type": "code",
   "execution_count": null,
   "id": "349d92fa",
   "metadata": {
    "vscode": {
     "languageId": "plaintext"
    }
   },
   "outputs": [],
   "source": [
    "Setup & Imports\n",
    "import tensorflow as tf\n",
    "from tensorflow.keras.preprocessing.image import ImageDataGenerator\n",
    "from tensorflow.keras.applications import MobileNetV2\n",
    "from tensorflow.keras import layers, models, optimizers\n",
    "import numpy as np\n",
    "import matplotlib.pyplot as plt\n",
    "\n"
   ]
  }
 ],
 "metadata": {
  "language_info": {
   "name": "python"
  }
 },
 "nbformat": 4,
 "nbformat_minor": 5
}

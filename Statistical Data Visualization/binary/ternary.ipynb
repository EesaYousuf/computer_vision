{
 "cells": [
  {
   "cell_type": "code",
   "execution_count": null,
   "id": "0213bacd",
   "metadata": {
    "vscode": {
     "languageId": "plaintext"
    }
   },
   "outputs": [],
   "source": [
    "import tensorflow as tf\n",
    "from tensorflow.keras.preprocessing.image import ImageDataGenerator\n",
    "from tensorflow.keras import layers, models\n",
    "from tensorflow.keras.applications import VGG16\n"
   ]
  },
  {
   "cell_type": "code",
   "execution_count": null,
   "id": "075b40d2",
   "metadata": {
    "vscode": {
     "languageId": "plaintext"
    }
   },
   "outputs": [],
   "source": [
    "# 1. Data setup\n",
    "datagen = ImageDataGenerator(rescale=1./255, validation_split=0.2)\n",
    "train = datagen.flow_from_directory('ct_scans/train', target_size=(256,256),\n",
    "                                    batch_size=16, class_mode='categorical')\n",
    "val   = datagen.flow_from_directory('ct_scans/val', target_size=(256,256),\n",
    "                                    batch_size=16, class_mode='categorical')\n"
   ]
  },
  {
   "cell_type": "code",
   "execution_count": null,
   "id": "6f5c5c05",
   "metadata": {
    "vscode": {
     "languageId": "plaintext"
    }
   },
   "outputs": [],
   "source": [
    "# 2. Transfer learning\n",
    "base = VGG16(weights='imagenet', include_top=False, input_shape=(256,256,3))\n",
    "base.trainable = False\n",
    "model = models.Sequential([\n",
    "    base,\n",
    "    layers.GlobalAveragePooling2D(),\n",
    "    layers.Dense(128, activation='relu'),\n",
    "    layers.Dropout(0.3),\n",
    "    layers.Dense(train.num_classes, activation='softmax')\n",
    "])\n",
    "model.compile(optimizer='adam', loss='categorical_crossentropy', metrics=['accuracy'])\n"
   ]
  }
 ],
 "metadata": {
  "language_info": {
   "name": "python"
  }
 },
 "nbformat": 4,
 "nbformat_minor": 5
}

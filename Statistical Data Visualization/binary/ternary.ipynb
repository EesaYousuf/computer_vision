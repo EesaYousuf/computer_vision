{
 "cells": [
  {
   "cell_type": "code",
   "execution_count": null,
   "id": "0213bacd",
   "metadata": {
    "vscode": {
     "languageId": "plaintext"
    }
   },
   "outputs": [],
   "source": [
    "import tensorflow as tf\n",
    "from tensorflow.keras.preprocessing.image import ImageDataGenerator\n",
    "from tensorflow.keras import layers, models\n",
    "from tensorflow.keras.applications import VGG16\n"
   ]
  },
  {
   "cell_type": "code",
   "execution_count": null,
   "id": "075b40d2",
   "metadata": {
    "vscode": {
     "languageId": "plaintext"
    }
   },
   "outputs": [],
   "source": [
    "# 1. Data setup\n",
    "datagen = ImageDataGenerator(rescale=1./255, validation_split=0.2)\n",
    "train = datagen.flow_from_directory('ct_scans/train', target_size=(256,256),\n",
    "                                    batch_size=16, class_mode='categorical')\n",
    "val   = datagen.flow_from_directory('ct_scans/val', target_size=(256,256),\n",
    "                                    batch_size=16, class_mode='categorical')\n"
   ]
  }
 ],
 "metadata": {
  "language_info": {
   "name": "python"
  }
 },
 "nbformat": 4,
 "nbformat_minor": 5
}

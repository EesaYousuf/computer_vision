{
 "cells": [
  {
   "cell_type": "code",
   "execution_count": null,
   "id": "e06103d9",
   "metadata": {
    "vscode": {
     "languageId": "plaintext"
    }
   },
   "outputs": [],
   "source": [
    "import tensorflow as tf\n",
    "from tensorflow.keras.preprocessing.image import ImageDataGenerator\n",
    "from tensorflow.keras import layers, models\n",
    "from tensorflow.keras.applications import VGG16\n",
    "import numpy as np\n"
   ]
  },
  {
   "cell_type": "code",
   "execution_count": null,
   "id": "be50f822",
   "metadata": {
    "vscode": {
     "languageId": "plaintext"
    }
   },
   "outputs": [],
   "source": [
    "# 1. Data loaders\n",
    "img_size = (224,224)\n",
    "batch = 32\n",
    "datagen = ImageDataGenerator(rescale=1./255, validation_split=0.2)\n",
    "train = datagen.flow_from_directory('chest_xray', subset='training',\n",
    "                                    target_size=img_size, batch_size=batch, class_mode='binary')\n",
    "val   = datagen.flow_from_directory('chest_xray', subset='validation',\n",
    "                                    target_size=img_size, batch_size=batch, class_mode='binary')\n"
   ]
  }
 ],
 "metadata": {
  "language_info": {
   "name": "python"
  }
 },
 "nbformat": 4,
 "nbformat_minor": 5
}

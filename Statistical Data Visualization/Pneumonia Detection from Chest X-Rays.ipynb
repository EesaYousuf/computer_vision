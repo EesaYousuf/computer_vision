{
 "cells": [
  {
   "cell_type": "code",
   "execution_count": null,
   "id": "e06103d9",
   "metadata": {
    "vscode": {
     "languageId": "plaintext"
    }
   },
   "outputs": [],
   "source": [
    "import tensorflow as tf\n",
    "from tensorflow.keras.preprocessing.image import ImageDataGenerator\n",
    "from tensorflow.keras import layers, models\n",
    "from tensorflow.keras.applications import VGG16\n",
    "import numpy as np\n"
   ]
  },
  {
   "cell_type": "code",
   "execution_count": null,
   "id": "be50f822",
   "metadata": {
    "vscode": {
     "languageId": "plaintext"
    }
   },
   "outputs": [],
   "source": [
    "# 1. Data loaders\n",
    "img_size = (224,224)\n",
    "batch = 32\n",
    "datagen = ImageDataGenerator(rescale=1./255, validation_split=0.2)\n",
    "train = datagen.flow_from_directory('chest_xray', subset='training',\n",
    "                                    target_size=img_size, batch_size=batch, class_mode='binary')\n",
    "val   = datagen.flow_from_directory('chest_xray', subset='validation',\n",
    "                                    target_size=img_size, batch_size=batch, class_mode='binary')\n"
   ]
  },
  {
   "cell_type": "code",
   "execution_count": null,
   "id": "2d04604d",
   "metadata": {
    "vscode": {
     "languageId": "plaintext"
    }
   },
   "outputs": [],
   "source": [
    "# 2. Build model with transfer learning\n",
    "base = VGG16(weights='imagenet', include_top=False, input_shape=img_size+(3,))\n",
    "base.trainable = False\n",
    "model = models.Sequential([\n",
    "    base,\n",
    "    layers.GlobalAveragePooling2D(),\n",
    "    layers.Dropout(0.3),\n",
    "    layers.Dense(1, activation='sigmoid')\n",
    "])\n",
    "model.compile(optimizer='adam', loss='binary_crossentropy', metrics=['accuracy'])\n"
   ]
  },
  {
   "cell_type": "code",
   "execution_count": null,
   "id": "5824c240",
   "metadata": {
    "vscode": {
     "languageId": "plaintext"
    }
   },
   "outputs": [],
   "source": [
    "# 3. Train\n",
    "model.fit(train, validation_data=val, epochs=10)\n",
    "\n",
    "# 4. Evaluate & save\n",
    "model.save('pneumonia_vgg16.h5')"
   ]
  }
 ],
 "metadata": {
  "language_info": {
   "name": "python"
  }
 },
 "nbformat": 4,
 "nbformat_minor": 5
}

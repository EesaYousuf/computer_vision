{
 "cells": [
  {
   "cell_type": "code",
   "execution_count": 2,
   "id": "eb53684c",
   "metadata": {},
   "outputs": [],
   "source": [
    "# Simplified Object Localization\n",
    "import gym\n",
    "import numpy as np\n",
    "import cv2\n",
    "import torch\n",
    "from torchvision import transforms\n",
    "from gym import spaces"
   ]
  },
  {
   "cell_type": "code",
   "execution_count": 3,
   "id": "723454fa",
   "metadata": {},
   "outputs": [],
   "source": [
    "class SimpleImageEnv(gym.Env):\n",
    "    def __init__(self, image, target_box):\n",
    "        super(SimpleImageEnv, self).__init__()\n",
    "        self.image = image\n",
    "        self.target_box = target_box  # [x, y, w, h]\n",
    "        self.curr_box = [0, 0, 50, 50]  # initial box\n",
    "        self.max_steps = 20\n",
    "        self.step_count = 0\n"
   ]
  }
 ],
 "metadata": {
  "kernelspec": {
   "display_name": "base",
   "language": "python",
   "name": "python3"
  },
  "language_info": {
   "codemirror_mode": {
    "name": "ipython",
    "version": 3
   },
   "file_extension": ".py",
   "mimetype": "text/x-python",
   "name": "python",
   "nbconvert_exporter": "python",
   "pygments_lexer": "ipython3",
   "version": "3.12.7"
  }
 },
 "nbformat": 4,
 "nbformat_minor": 5
}

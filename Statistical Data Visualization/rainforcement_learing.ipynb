{
 "cells": [
  {
   "cell_type": "code",
   "execution_count": 2,
   "id": "eb53684c",
   "metadata": {},
   "outputs": [],
   "source": [
    "# Simplified Object Localization\n",
    "import gym\n",
    "import numpy as np\n",
    "import cv2\n",
    "import torch\n",
    "from torchvision import transforms\n",
    "from gym import spaces"
   ]
  },
  {
   "cell_type": "code",
   "execution_count": 4,
   "id": "723454fa",
   "metadata": {},
   "outputs": [],
   "source": [
    "class SimpleImageEnv(gym.Env):\n",
    "    def __init__(self, image, target_box):\n",
    "        super(SimpleImageEnv, self).__init__()\n",
    "        self.image = image\n",
    "        self.target_box = target_box  # [x, y, w, h]\n",
    "        self.curr_box = [0, 0, 50, 50]  # initial box\n",
    "        self.max_steps = 20\n",
    "        self.step_count = 0\n",
    "        # Actions: up, down, left, right, zoom in, zoom out\n",
    "        self.action_space = spaces.Discrete(6)\n",
    "        self.observation_space = spaces.Box(low=0, high=255,\n",
    "                                            shape=(3, 64, 64), dtype=np.uint8)\n",
    "\n",
    "    def step(self, action):\n",
    "        x, y, w, h = self.curr_box\n",
    "        if action == 0: y -= 5\n",
    "        elif action == 1: y += 5\n",
    "        elif action == 2: x -= 5\n",
    "        elif action == 3: x += 5\n",
    "        elif action == 4: w, h = w - 5, h - 5\n",
    "        elif action == 5: w, h = w + 5, h + 5\n",
    "\n",
    "        self.curr_box = [max(0, x), max(0, y), max(10, w), max(10, h)]\n",
    "\n",
    "        self.step_count += 1\n",
    "        done = self.step_count >= self.max_steps\n",
    "\n"
   ]
  }
 ],
 "metadata": {
  "kernelspec": {
   "display_name": "base",
   "language": "python",
   "name": "python3"
  },
  "language_info": {
   "codemirror_mode": {
    "name": "ipython",
    "version": 3
   },
   "file_extension": ".py",
   "mimetype": "text/x-python",
   "name": "python",
   "nbconvert_exporter": "python",
   "pygments_lexer": "ipython3",
   "version": "3.12.7"
  }
 },
 "nbformat": 4,
 "nbformat_minor": 5
}

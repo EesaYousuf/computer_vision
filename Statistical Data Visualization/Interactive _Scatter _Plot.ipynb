{
 "cells": [
  {
   "cell_type": "code",
   "execution_count": 1,
   "id": "5c439403",
   "metadata": {},
   "outputs": [],
   "source": [
    "import plotly.express as px\n",
    "import pandas as pd\n"
   ]
  },
  {
   "cell_type": "code",
   "execution_count": 2,
   "id": "4b372ab6",
   "metadata": {},
   "outputs": [],
   "source": [
    "# Sample dataset\n",
    "df = pd.DataFrame({\n",
    "    'Height': [150, 160, 170, 180, 190],\n",
    "    'Weight': [50, 60, 70, 80, 90],\n",
    "    'Name': ['Alice', 'Bob', 'Charlie', 'David', 'Eva']\n",
    "})"
   ]
  },
  {
   "cell_type": "code",
   "execution_count": 3,
   "id": "7d434022",
   "metadata": {},
   "outputs": [],
   "source": [
    "# Create scatter plot\n",
    "fig = px.scatter(df, x='Height', y='Weight', text='Name',\n",
    "                 title='Height vs Weight', labels={'Height':'Height (cm)', 'Weight':'Weight (kg)'})\n"
   ]
  }
 ],
 "metadata": {
  "kernelspec": {
   "display_name": "base",
   "language": "python",
   "name": "python3"
  },
  "language_info": {
   "codemirror_mode": {
    "name": "ipython",
    "version": 3
   },
   "file_extension": ".py",
   "mimetype": "text/x-python",
   "name": "python",
   "nbconvert_exporter": "python",
   "pygments_lexer": "ipython3",
   "version": "3.12.7"
  }
 },
 "nbformat": 4,
 "nbformat_minor": 5
}

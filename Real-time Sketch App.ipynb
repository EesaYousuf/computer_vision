{
 "cells": [
  {
   "cell_type": "code",
   "execution_count": null,
   "id": "dc90ce75",
   "metadata": {
    "vscode": {
     "languageId": "plaintext"
    }
   },
   "outputs": [],
   "source": [
    "import cv2\n",
    "\n",
    "def sketch(image):\n",
    "    # Convert to grayscale\n",
    "    gray = cv2.cvtColor(image, cv2.COLOR_BGR2GRAY)\n",
    "    "
   ]
  },
  {
   "cell_type": "code",
   "execution_count": null,
   "id": "f14f8c42",
   "metadata": {
    "vscode": {
     "languageId": "plaintext"
    }
   },
   "outputs": [],
   "source": [
    "# Invert the grayscale image\n",
    "    inverted = 255 - gray\n"
   ]
  },
  {
   "cell_type": "code",
   "execution_count": null,
   "id": "272710fb",
   "metadata": {
    "vscode": {
     "languageId": "plaintext"
    }
   },
   "outputs": [],
   "source": [
    "# Blur the inverted image\n",
    "    blurred = cv2.GaussianBlur(inverted, (21, 21), 0)\n",
    "\n",
    "    # Invert the blurred image\n",
    "    inverted_blur = 255 - blurred"
   ]
  },
  {
   "cell_type": "code",
   "execution_count": null,
   "id": "88a308a9",
   "metadata": {
    "vscode": {
     "languageId": "plaintext"
    }
   },
   "outputs": [],
   "source": [
    "# Invert the blurred image\n",
    "    inverted_blur = 255 - blurred\n",
    "\n",
    "    # Create the sketch\n",
    "    sketch = cv2.divide(gray, inverted_blur, scale=256.0)\n"
   ]
  }
 ],
 "metadata": {
  "language_info": {
   "name": "python"
  }
 },
 "nbformat": 4,
 "nbformat_minor": 5
}

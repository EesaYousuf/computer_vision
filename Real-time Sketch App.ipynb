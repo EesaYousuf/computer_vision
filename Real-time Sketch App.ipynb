{
 "cells": [
  {
   "cell_type": "code",
   "execution_count": null,
   "id": "dc90ce75",
   "metadata": {
    "vscode": {
     "languageId": "plaintext"
    }
   },
   "outputs": [],
   "source": [
    "import cv2\n",
    "\n",
    "def sketch(image):\n",
    "    # Convert to grayscale\n",
    "    gray = cv2.cvtColor(image, cv2.COLOR_BGR2GRAY)\n",
    "    "
   ]
  },
  {
   "cell_type": "code",
   "execution_count": null,
   "id": "f14f8c42",
   "metadata": {
    "vscode": {
     "languageId": "plaintext"
    }
   },
   "outputs": [],
   "source": [
    "# Invert the grayscale image\n",
    "    inverted = 255 - gray\n"
   ]
  },
  {
   "cell_type": "code",
   "execution_count": null,
   "id": "272710fb",
   "metadata": {
    "vscode": {
     "languageId": "plaintext"
    }
   },
   "outputs": [],
   "source": [
    "# Blur the inverted image\n",
    "    blurred = cv2.GaussianBlur(inverted, (21, 21), 0)\n",
    "\n",
    "    # Invert the blurred image\n",
    "    inverted_blur = 255 - blurred\n",
    "      return sketch"
   ]
  },
  {
   "cell_type": "code",
   "execution_count": null,
   "id": "89cca665",
   "metadata": {
    "vscode": {
     "languageId": "plaintext"
    }
   },
   "outputs": [],
   "source": [
    "# Start webcam\n",
    "cap = cv2.VideoCapture(0)\n",
    "print(\"Press 'q' to quit.\")\n",
    "\n",
    "while True:\n",
    "    ret, frame = cap.read()\n",
    "    if not ret:\n",
    "        break\n",
    "\n",
    "    sketch_frame = sketch(frame)"
   ]
  },
  {
   "cell_type": "code",
   "execution_count": null,
   "id": "2afbb098",
   "metadata": {
    "vscode": {
     "languageId": "plaintext"
    }
   },
   "outputs": [],
   "source": [
    "# Display original and sketch side by side\n",
    "    combined = cv2.hconcat([cv2.resize(frame, (320, 240)), cv2.cvtColor(sketch_frame, cv2.COLOR_GRAY2BGR)])\n",
    "    cv2.imshow(\"Real-Time Sketch App (Original | Sketch)\", combined)\n",
    "\n",
    "    if cv2.waitKey(1) & 0xFF == ord('q'):\n",
    "        break\n",
    "\n",
    "cap.release()\n",
    "cv2.destroyAllWindows()"
   ]
  }
 ],
 "metadata": {
  "language_info": {
   "name": "python"
  }
 },
 "nbformat": 4,
 "nbformat_minor": 5
}

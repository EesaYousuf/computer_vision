{
 "cells": [
  {
   "cell_type": "markdown",
   "id": "8fd27782",
   "metadata": {},
   "source": [
    "# 📌 Step 1: Install Required Libraries (Run this only once)\n",
    "!pip install plotly scikit-learn"
   ]
  }
 ],
 "metadata": {
  "language_info": {
   "name": "python"
  }
 },
 "nbformat": 4,
 "nbformat_minor": 5
}

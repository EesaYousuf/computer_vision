{
 "cells": [
  {
   "cell_type": "markdown",
   "id": "8fd27782",
   "metadata": {},
   "source": [
    "# 📌 Step 1: Install Required Libraries (Run this only once)\n",
    "!pip install plotly scikit-learn"
   ]
  },
  {
   "cell_type": "code",
   "execution_count": 1,
   "id": "dbec2419",
   "metadata": {},
   "outputs": [],
   "source": [
    "# 📌 Step 2: Import packages\n",
    "import pandas as pd\n",
    "import plotly.express as px\n",
    "from sklearn.preprocessing import StandardScaler\n",
    "from sklearn.decomposition import PCA"
   ]
  },
  {
   "cell_type": "code",
   "execution_count": 2,
   "id": "a5cb494a",
   "metadata": {},
   "outputs": [],
   "source": [
    "# ✅ Step 3: Load the tips dataset\n",
    "df = px.data.tips()\n"
   ]
  }
 ],
 "metadata": {
  "kernelspec": {
   "display_name": "base",
   "language": "python",
   "name": "python3"
  },
  "language_info": {
   "codemirror_mode": {
    "name": "ipython",
    "version": 3
   },
   "file_extension": ".py",
   "mimetype": "text/x-python",
   "name": "python",
   "nbconvert_exporter": "python",
   "pygments_lexer": "ipython3",
   "version": "3.12.7"
  }
 },
 "nbformat": 4,
 "nbformat_minor": 5
}

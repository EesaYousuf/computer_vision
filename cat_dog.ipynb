{
 "cells": [
  {
   "cell_type": "code",
   "execution_count": 1,
   "id": "ed7c3a08",
   "metadata": {},
   "outputs": [],
   "source": [
    "import tensorflow as tf\n",
    "from tensorflow.keras.preprocessing.image import ImageDataGenerator\n",
    "import matplotlib.pyplot as plt\n"
   ]
  },
  {
   "cell_type": "code",
   "execution_count": 2,
   "id": "a7494301",
   "metadata": {},
   "outputs": [],
   "source": [
    "# Set up paths\n",
    "train_dir = 'path/to/train'  # e.g., train/cat/, train/dog/\n",
    "val_dir = 'path/to/validation'\n"
   ]
  },
  {
   "cell_type": "code",
   "execution_count": 3,
   "id": "28e4e07b",
   "metadata": {},
   "outputs": [],
   "source": [
    "# Image preprocessing\n",
    "train_datagen = ImageDataGenerator(rescale=1./255)\n",
    "val_datagen = ImageDataGenerator(rescale=1./255)"
   ]
  }
 ],
 "metadata": {
  "kernelspec": {
   "display_name": "base",
   "language": "python",
   "name": "python3"
  },
  "language_info": {
   "codemirror_mode": {
    "name": "ipython",
    "version": 3
   },
   "file_extension": ".py",
   "mimetype": "text/x-python",
   "name": "python",
   "nbconvert_exporter": "python",
   "pygments_lexer": "ipython3",
   "version": "3.12.7"
  }
 },
 "nbformat": 4,
 "nbformat_minor": 5
}

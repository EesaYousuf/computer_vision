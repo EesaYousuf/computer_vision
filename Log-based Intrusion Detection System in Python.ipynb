{
 "cells": [
  {
   "cell_type": "code",
   "execution_count": null,
   "id": "53026b35",
   "metadata": {
    "vscode": {
     "languageId": "plaintext"
    }
   },
   "outputs": [],
   "source": [
    "import re\n",
    "import pandas as pd\n",
    "from collections import Counter\n",
    "import matplotlib.pyplot as plt\n",
    "from datetime import datetime\n",
    "import requests\n",
    "     "
   ]
  },
  {
   "cell_type": "code",
   "execution_count": null,
   "id": "c0bccb10",
   "metadata": {
    "vscode": {
     "languageId": "plaintext"
    }
   },
   "outputs": [],
   "source": [
    "# Path to auth log (works on Unix/Linux)\n",
    "LOG_PATH = \"/var/log/auth.log\"\n",
    "\n",
    "# Store parsed results\n",
    "failed_logins = []\n"
   ]
  },
  {
   "cell_type": "code",
   "execution_count": null,
   "id": "ec285c92",
   "metadata": {
    "vscode": {
     "languageId": "plaintext"
    }
   },
   "outputs": [],
   "source": [
    "# Regex to parse log lines\n",
    "pattern = re.compile(r'^(\\w{3}\\s+\\d+\\s[\\d:]+)\\s[\\w-]+\\s.*sshd.*Failed password.*from\\s([\\d.]+)')\n",
    "\n",
    "with open(LOG_PATH, 'r', encoding='utf-8', errors='ignore') as f:\n",
    "    for line in f:\n",
    "        match = pattern.search(line)\n",
    "        if match:\n",
    "            timestamp_str, ip = match.groups()\n",
    "            timestamp = datetime.strptime(timestamp_str, \"%b %d %H:%M:%S\")\n",
    "            failed_logins.append({'time': timestamp, 'ip': ip})\n"
   ]
  },
  {
   "cell_type": "code",
   "execution_count": null,
   "id": "551c51e6",
   "metadata": {
    "vscode": {
     "languageId": "plaintext"
    }
   },
   "outputs": [],
   "source": [
    "\n",
    "df = pd.DataFrame(failed_logins)\n",
    "df.head()"
   ]
  },
  {
   "cell_type": "code",
   "execution_count": null,
   "id": "413a4488",
   "metadata": {
    "vscode": {
     "languageId": "plaintext"
    }
   },
   "outputs": [],
   "source": [
    "# Count failed login attempts per IP\n",
    "ip_counts = df['ip'].value_counts()\n",
    "print(\"Top 10 suspicious IPs:\\n\")\n",
    "print(ip_counts.head(10))"
   ]
  },
  {
   "cell_type": "code",
   "execution_count": null,
   "id": "3f43e161",
   "metadata": {
    "vscode": {
     "languageId": "plaintext"
    }
   },
   "outputs": [],
   "source": [
    "# Visualize attempts over time\n",
    "df.set_index('time').resample('H').count()['ip'].plot(figsize=(10,4), title='Failed Logins Over Time', grid=True)\n",
    "plt.ylabel(\"Attempts\")\n",
    "plt.show()\n",
    "     "
   ]
  },
  {
   "cell_type": "code",
   "execution_count": null,
   "id": "d2363385",
   "metadata": {
    "vscode": {
     "languageId": "plaintext"
    }
   },
   "outputs": [],
   "source": [
    "# Detect brute-force attacks (e.g., > 5 failed logins)\n",
    "suspicious_ips = ip_counts[ip_counts > 5]\n",
    "print(\"\\nIPs with >5 failed attempts:\\n\", suspicious_ips)\n",
    "     "
   ]
  },
  {
   "cell_type": "code",
   "execution_count": null,
   "id": "d5948c78",
   "metadata": {
    "vscode": {
     "languageId": "plaintext"
    }
   },
   "outputs": [],
   "source": [
    "# (Optional) Get GeoIP info using ipinfo.io\n",
    "def get_ip_info(ip):\n",
    "    try:\n",
    "        response = requests.get(f\"https://ipinfo.io/{ip}/json\", timeout=5)\n",
    "        data = response.json()\n",
    "        return data.get('city', 'Unknown'), data.get('region', ''), data.get('country', '')\n",
    "    except:\n",
    "        return \"N/A\", \"N/A\", \"N/A\"\n",
    "\n",
    "for ip in suspicious_ips.index[:5]:\n",
    "    city, region, country = get_ip_info(ip)\n",
    "    print(f\"{ip} --> {city}, {region}, {country}\")\n",
    "\n",
    "     \n"
   ]
  },
  {
   "cell_type": "code",
   "execution_count": null,
   "id": "1c980189",
   "metadata": {
    "vscode": {
     "languageId": "plaintext"
    }
   },
   "outputs": [],
   "source": [
    "# Simulate blocking IPs\n",
    "def block_ip(ip):\n",
    "    print(f\"[!] Blocking IP: {ip} (simulated)\")\n",
    "\n",
    "for ip in suspicious_ips.index:\n",
    "    block_ip(ip)\n",
    "\n",
    "     "
   ]
  },
  {
   "cell_type": "code",
   "execution_count": null,
   "id": "d8aa802f",
   "metadata": {
    "vscode": {
     "languageId": "plaintext"
    }
   },
   "outputs": [],
   "source": [
    "# Save results\n",
    "suspicious_ips.to_csv(\"suspicious_ips.csv\", header=True)\n",
    "print(\"Saved suspicious IPs to suspicious_ips.csv\")\n"
   ]
  }
 ],
 "metadata": {
  "language_info": {
   "name": "python"
  }
 },
 "nbformat": 4,
 "nbformat_minor": 5
}

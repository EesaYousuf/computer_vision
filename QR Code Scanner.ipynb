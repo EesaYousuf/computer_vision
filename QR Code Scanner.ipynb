{
 "cells": [
  {
   "cell_type": "code",
   "execution_count": null,
   "id": "da49696d",
   "metadata": {
    "vscode": {
     "languageId": "plaintext"
    }
   },
   "outputs": [],
   "source": [
    "import cv2\n",
    "\n",
    "detector = cv2.QRCodeDetector()\n",
    "img = cv2.imread('qr_code.png')\n",
    "\n",
    "data, bbox, _ = detector.detectAndDecode(img)\n"
   ]
  },
  {
   "cell_type": "code",
   "execution_count": null,
   "id": "3a194e8c",
   "metadata": {
    "vscode": {
     "languageId": "plaintext"
    }
   },
   "outputs": [],
   "source": [
    "if bbox is not None:\n",
    "    print(\"QR Code data:\", data)\n",
    "    for i in range(len(bbox)):\n",
    "        cv2.line(img, tuple(bbox[i][0]), tuple(bbox[(i+1) % len(bbox)][0]), (255, 0, 0), 2)\n",
    "\n",
    "cv2.imshow(\"QR Code Detector\", img)\n",
    "cv2.waitKey(0)\n",
    "cv2.destroyAllWindows()"
   ]
  }
 ],
 "metadata": {
  "language_info": {
   "name": "python"
  }
 },
 "nbformat": 4,
 "nbformat_minor": 5
}

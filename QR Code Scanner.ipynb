{
 "cells": [
  {
   "cell_type": "code",
   "execution_count": null,
   "id": "da49696d",
   "metadata": {},
   "outputs": [],
   "source": [
    "import cv2\n",
    "\n",
    "detector = cv2.QRCodeDetector()\n",
    "img = cv2.imread('qr_code.png')\n",
    "\n",
    "data, bbox, _ = detector.detectAndDecode(img)\n"
   ]
  },
  {
   "cell_type": "code",
   "execution_count": null,
   "id": "3a194e8c",
   "metadata": {},
   "outputs": [],
   "source": [
    "if bbox is not None:\n",
    "    print(\"QR Code data:\", data)\n",
    "    for i in range(len(bbox)):\n",
    "        cv2.line(img, tuple(bbox[i][0]), tuple(bbox[(i+1) % len(bbox)][0]), (255, 0, 0), 2)\n",
    "\n",
    "cv2.imshow(\"QR Code Detector\", img)\n",
    "cv2.waitKey(0)\n",
    "cv2.destroyAllWindows()"
   ]
  }
 ],
 "metadata": {
  "kernelspec": {
   "display_name": "base",
   "language": "python",
   "name": "python3"
  },
  "language_info": {
   "codemirror_mode": {
    "name": "ipython",
    "version": 3
   },
   "file_extension": ".py",
   "mimetype": "text/x-python",
   "name": "python",
   "nbconvert_exporter": "python",
   "pygments_lexer": "ipython3",
   "version": "3.12.7"
  }
 },
 "nbformat": 4,
 "nbformat_minor": 5
}
